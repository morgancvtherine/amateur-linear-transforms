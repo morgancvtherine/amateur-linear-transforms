import numpy as np 
import plotly.graph_objs as go
from ipywidgets import * 

"""
M. Catherine Yopp - 30 April 2022
MA 432 Linear Algebra - Final Project

Embry Riddle Aeronautical University 
mcat.yopp@gmail.com
#####################################

This code explores 4 elementary linear 
transformations on a 2-D shape. 

Credit: The inspiration for this code: 
https://www.youtube.com/watch?v=7h58wAzKPLY

"""


frames = 100
def scale(x_scaler, y_scaler):
    return np.matrix([[x_scaler,0], [0, y_scaler]])

def rotate(theta):
    return np.matrix([[np.cos(theta*np.pi/180), -np.sin(theta*np.pi/180)],[np.sin(theta*np.pi/180), np.cos(theta*np.pi/180)]])

def xshear(m):
    return np.matrix([[1, m],[0, 1]])

def yshear(m):
    return np.matrix([[1, 0],[m, 1]])

def reflect():
    return np.matrix([[-1,0],[0,-1]])

def animated_lintrans(from_scale, to_scale, angle, m_shear, xmove, ymove, transform, frame_num):
    sword = np.matrix([[0,1,1,1,2,1,1,1,1,1,1,1,1,1,1,1,1,2,3,2,1,1,1,1,2,3,4,5,4,3,1,1,1,1,1,0,-1,-1,-1,-1,-1,-3,-4,-5,-4,-3,-2,-1,-1,-1,-1,-2,-3,-2,-1,-1,-1,-1,-1,-1,-1,-1,-1,-1,-1,-1,-2,-1,-1,-1,0],
                       [25,24,23,22,21,20,19,18,17,16,15,14,13,12,11,10,9,8,7,6,5,4,3,2,2,3,2,1,0,-1,-2,-3,-4,-5,-6,-7,-6,-5,-4,-3,-2,-1,0,1,2,3,2,2,3,4,5,6,7,8,9,10,11,12,13,14,15,16,17,18,19,20,21,22,23,24,25]])
    xscalers = np.linspace(from_scale,to_scale,100)
    yscalers =  np.linspace(from_scale,to_scale,100)
    m = np.linspace(0, m_shear, frames)
    theta = np.linspace(0, angle, frames)
    a = np.linspace(0, xmove, frames)
    b = np.linspace(0, ymove, frames)
    # The origianl image 
    fig = go.Figure(
        go.Scatter(
            x = np.array(sword[0,:])[0],
            y = np.array(sword[1,:])[0],
            name = "original"
            )
        )
    
    if transform == 'scale':
       
        sword_scaled = scale(xscalers[frame_num],yscalers[frame_num]) * sword 
        fig.add_trace(
            go.Scatter(
                x = np.array(sword_scaled[0,:])[0], 
                y = np.array(sword_scaled[1,:])[0], 
                name = "scaled"
                )
            )
        
    elif transform == 'rotate':
        
        sword_rotated = rotate(theta[frame_num]) * sword 
        fig.add_trace(
            go.Scatter(
                x = np.array(sword_rotated[0,:])[0], 
                y = np.array(sword_rotated[1,:])[0], 
                name = "rotated"
                )
            )
    
        
    elif transform == 'shear': 
       
        sword_shorn = xshear(m[frame_num])*yshear(m[frame_num]) * sword 
        fig.add_trace(
            go.Scatter(
                x = np.array(sword_shorn[0,:])[0], 
                y = np.array(sword_shorn[1,:])[0], 
                name = "shorn"
                )
            )
        
    elif transform == 'translate':
    
        fig.add_trace(
        go.Scatter(
            x = np.array(sword[0,:] + a[frame_num])[0], 
            y = np.array(sword[1,:] + b[frame_num])[0], 
            name = "translated"
            )
        )
    
    elif transform == 'reflect':
        sword_reflected = reflect() * sword
        fig.add_trace(
        go.Scatter(
            x = np.array(sword_reflected[0,:])[0], 
            y = np.array(sword_reflected[1,:])[0], 
            name = "reflected"
            )
        )
        
    elif transform == 'all':
        
        sword_trans = scale(xscalers[frame_num],yscalers[frame_num])*rotate(theta[frame_num])*xshear(m[frame_num])*yshear(m[frame_num]) * reflect() *sword 
        fig.add_trace(
            go.Scatter(
                x = np.array(sword_trans[0,:] + a[frame_num])[0], 
                y = np.array(sword_trans[1,:] + b[frame_num])[0] , 
                name = "transformed"
                )
            )

        
        
    # Just showing the output 
    fig.update_layout(
        xaxis = dict(range = [-15,60]),
        yaxis = dict(range = [-25,70]), 
        autosize = False, 
        width = 400, 
        height = 400,
        title = "The Animated Trasnformation of a sword"
        )
    fig.show(renderer = "svg")
    
#++++++++++++++++++++++++++++++++++++++++++++++++++++++++++++++++++#
interactive(animated_lintrans, from_scale = 1, to_scale = 3, angle = 155, m_shear = .3, transform = 'all', xmove = 5, ymove = -5, frame_num = Play( value = 0, min = 0, max = frames-1, step = 1))
