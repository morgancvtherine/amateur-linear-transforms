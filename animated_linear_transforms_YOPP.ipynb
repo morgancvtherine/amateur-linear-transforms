{
 "cells": [
  {
   "cell_type": "code",
   "execution_count": 2,
   "id": "e595ddc7-8a4d-4c7c-b823-313dcb3d6783",
   "metadata": {},
   "outputs": [
    {
     "data": {
      "application/vnd.jupyter.widget-view+json": {
       "model_id": "b4daabab7e594b3dbfc59f4011ac65a9",
       "version_major": 2,
       "version_minor": 0
      },
      "text/plain": [
       "interactive(children=(Play(value=0, description='frame_num', max=99), Output()), _dom_classes=('widget-interac…"
      ]
     },
     "metadata": {},
     "output_type": "display_data"
    }
   ],
   "source": [
    "import numpy as np \n",
    "import plotly.graph_objs as go\n",
    "from ipywidgets import * \n",
    "\n",
    "\n",
    "### The linear transformation funtions \n",
    "def scale(x_scaler, y_scaler):\n",
    "    return np.matrix([[x_scaler,0], [0, y_scaler]])\n",
    "\n",
    "\n",
    "#++++++++++++++++++++++++++++++++++++++++++++++++++++++++++++++++++#\n",
    "\n",
    "frames = 100 \n",
    "xscalers = np.linspace(.5,2,100)\n",
    "yscalers = np.linspace(.5,2,100)\n",
    "\n",
    "\n",
    "def animated_scales(frame_num):\n",
    "    ### Making shapes and transforming them \n",
    "    \n",
    "    #sword = np.matrix([[0,1,1,1,1,1,1,1,1,1,2,3,3,2,1,1,1,0,-1,-1,-1,-2,-3,-3,-2,-1,-1,-1,-1,-1,-1,-1,-1,-1,0], [10,9,8,7,6,5,4,3,2,1,1,1,0,-1,-2,-3,-4,-5,-4,-3,-2,-1,0,1,1,1,2,3,4,5,6,7,8,9,10]])\n",
    "    sword = np.matrix([[0,1,1,1,2,1,1,1,1,1,1,1,1,1,1,1,1,2,3,2,1,1,1,1,2,3,4,5,4,3,1,1,1,1,1,0,-1,-1,-1,-1,-1,-3,-4,-5,-4,-3,-2,-1,-1,-1,-1,-2,-3,-2,-1,-1,-1,-1,-1,-1,-1,-1,-1,-1,-1,-1,-2,-1,-1,-1,0],\n",
    "                       [25,24,23,22,21,20,19,18,17,16,15,14,13,12,11,10,9,8,7,6,5,4,3,2,2,3,2,1,0,-1,-2,-3,-4,-5,-6,-7,-6,-5,-4,-3,-2,-1,0,1,2,3,2,2,3,4,5,6,7,8,9,10,11,12,13,14,15,16,17,18,19,20,21,22,23,24,25]])\n",
    "    # The origianl image \n",
    "    fig = go.Figure(\n",
    "        go.Scatter(\n",
    "            x = np.array(sword[0,:])[0],\n",
    "            y = np.array(sword[1,:])[0],\n",
    "            name = \"original\"\n",
    "            )\n",
    "        )\n",
    "    \n",
    "    # The scaled image\n",
    "    sword_scaled = scale(xscalers[frame_num],yscalers[frame_num]) * sword \n",
    "    fig.add_trace(\n",
    "        go.Scatter(\n",
    "            x = np.array(sword_scaled[0,:])[0], \n",
    "            y = np.array(sword_scaled[1,:])[0], \n",
    "            name = \"scaled\"\n",
    "            )\n",
    "        )\n",
    "    \n",
    "    # Just showing the output \n",
    "    fig.update_layout(\n",
    "        xaxis = dict(range = [-60,60]),\n",
    "        yaxis = dict(range = [-20,60]), \n",
    "        autosize = False, \n",
    "        width = 400, \n",
    "        height = 400, \n",
    "        title = \"The Animated Trasnformation of a sword\"\n",
    "        )\n",
    "    fig.show(renderer = \"svg\")\n",
    "\n",
    "#++++++++++++++++++++++++++++++++++++++++++++++++++++++++++++++++++#\n",
    "\n",
    "interactive(animated_scales, frame_num = Play( value = 0, min = 0, max = frames-1, step = 1))\n"
   ]
  },
  {
   "cell_type": "code",
   "execution_count": 3,
   "id": "264d47bb-cc55-480e-8119-d7d18fe562c7",
   "metadata": {},
   "outputs": [
    {
     "data": {
      "application/vnd.jupyter.widget-view+json": {
       "model_id": "c5c75789bf4c4a9c8120d8df38b81592",
       "version_major": 2,
       "version_minor": 0
      },
      "text/plain": [
       "interactive(children=(Play(value=0, description='frame_num', max=99), Output()), _dom_classes=('widget-interac…"
      ]
     },
     "metadata": {},
     "output_type": "display_data"
    }
   ],
   "source": [
    "def rotate(theta):\n",
    "    return np.matrix([[np.cos(theta*np.pi/180), -np.sin(theta*np.pi/180)],[np.sin(theta*np.pi/180), np.cos(theta*np.pi/180)]])\n",
    "\n",
    "theta = np.linspace(0,180, frames)\n",
    "def animated_rotations(frame_num):\n",
    "    sword = np.matrix([[0,1,1,1,2,1,1,1,1,1,1,1,1,1,1,1,1,2,3,2,1,1,1,1,2,3,4,5,4,3,1,1,1,1,1,0,-1,-1,-1,-1,-1,-3,-4,-5,-4,-3,-2,-1,-1,-1,-1,-2,-3,-2,-1,-1,-1,-1,-1,-1,-1,-1,-1,-1,-1,-1,-2,-1,-1,-1,0],\n",
    "                       [25,24,23,22,21,20,19,18,17,16,15,14,13,12,11,10,9,8,7,6,5,4,3,2,2,3,2,1,0,-1,-2,-3,-4,-5,-6,-7,-6,-5,-4,-3,-2,-1,0,1,2,3,2,2,3,4,5,6,7,8,9,10,11,12,13,14,15,16,17,18,19,20,21,22,23,24,25]])\n",
    "    # The origianl image \n",
    "    fig = go.Figure(\n",
    "        go.Scatter(\n",
    "            x = np.array(sword[0,:])[0],\n",
    "            y = np.array(sword[1,:])[0],\n",
    "            name = \"original\"\n",
    "            )\n",
    "        )\n",
    "    \n",
    "    # The scaled image\n",
    "    sword_rotated = rotate(theta[frame_num]) * sword \n",
    "    fig.add_trace(\n",
    "        go.Scatter(\n",
    "            x = np.array(sword_rotated[0,:])[0], \n",
    "            y = np.array(sword_rotated[1,:])[0], \n",
    "            name = \"rotated\"\n",
    "            )\n",
    "        )\n",
    "    \n",
    "    # Just showing the output \n",
    "    fig.update_layout(\n",
    "        xaxis = dict(range = [-30,30]),\n",
    "        yaxis = dict(range = [-30,30]), \n",
    "        autosize = False, \n",
    "        width = 400, \n",
    "        height = 400,\n",
    "        title = \"The Animated Trasnformation of a sword\"\n",
    "        )\n",
    "    fig.show(renderer = \"svg\")\n",
    "    \n",
    "#++++++++++++++++++++++++++++++++++++++++++++++++++++++++++++++++++#\n",
    "\n",
    "interactive(animated_rotations, frame_num = Play( value = 0, min = 0, max = frames-1, step = 1))"
   ]
  },
  {
   "cell_type": "code",
   "execution_count": null,
   "id": "252947e4-7d7f-4715-97b7-54b4f40b27bb",
   "metadata": {},
   "outputs": [],
   "source": []
  }
 ],
 "metadata": {
  "kernelspec": {
   "display_name": "Python 3 (ipykernel)",
   "language": "python",
   "name": "python3"
  },
  "language_info": {
   "codemirror_mode": {
    "name": "ipython",
    "version": 3
   },
   "file_extension": ".py",
   "mimetype": "text/x-python",
   "name": "python",
   "nbconvert_exporter": "python",
   "pygments_lexer": "ipython3",
   "version": "3.8.13"
  }
 },
 "nbformat": 4,
 "nbformat_minor": 5
}
